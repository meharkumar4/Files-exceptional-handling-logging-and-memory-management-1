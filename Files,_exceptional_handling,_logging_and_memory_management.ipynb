{
  "nbformat": 4,
  "nbformat_minor": 0,
  "metadata": {
    "colab": {
      "provenance": []
    },
    "kernelspec": {
      "name": "python3",
      "display_name": "Python 3"
    },
    "language_info": {
      "name": "python"
    }
  },
  "cells": [
    {
      "cell_type": "markdown",
      "source": [
        "#Files, exceptional handling,logging and memory management\n",
        "\n"
      ],
      "metadata": {
        "id": "dYBhju_7Y7Ti"
      }
    },
    {
      "cell_type": "markdown",
      "source": [
        "1. What is the difference between interpreted and compiled languages?\n",
        "- The main difference between interpreted and compiled languages lies in how their code is executed.\n",
        "\n",
        "Interpreted Languages\n",
        "* Code is executed line by line by an interpreter.\n",
        "\n",
        "* No separate compilation step; the program runs directly from the source code.\n",
        "\n",
        "* Slower execution compared to compiled languages because translation happens at runtime.\n",
        "\n",
        "* Easier to debug since errors appear immediately.\n",
        "\n",
        "* More flexible and portable since they are not tied to a specific machine.\n",
        "\n",
        " Examples: Python, JavaScript, PHP, Ruby\n",
        "\n",
        "Compiled Languages\n",
        "\n",
        "* Code is translated entirely into machine code before execution using a compiler.\n",
        "\n",
        "* The program runs as a separate executable file.\n",
        "* Faster execution because translation is done beforehand.\n",
        "* Harder to debug since errors appear after compilation.\n",
        "* Less flexible but more optimized for performance.\n",
        "\n",
        "Examples: C, C++, Rust, Go\n",
        "2. What is exception handling in Python?\n",
        "- Exception handling in Python is a mechanism to handle runtime errors using `try`, `except`, `else`, and `finally` blocks. It prevents crashes by catching exceptions, allowing graceful program execution and debugging without abrupt termination. Common exceptions include `ZeroDivisionError`, `TypeError`, and `ValueError`.\n",
        "\n",
        "3. What is the purpose of the finally block in exception handling?\n",
        "- The finally block in Python's exception handling ensures that specific code always executes, regardless of whether an exception occurs or not. It is typically used for cleanup tasks like closing files, releasing resources, or disconnecting from databases.\n",
        "4. What is logging in Python?\n",
        "- Logging in Python is a built-in module (logging) that allows you to record messages about the execution of a program. It helps in debugging, monitoring, and tracking errors efficiently.\n",
        "5. What is the significance of the __del__ method in Python?\n",
        "- The __del__ method in Python is a destructor that is called when an object is about to be destroyed (garbage collected). It is mainly used to release resources like closing files, database connections, or network sockets.\n",
        "\n",
        "Key Points:\n",
        "\n",
        "* Automatically called when an object goes out of scope or is deleted.\n",
        "* Helps in cleanup operations before an object is destroyed.\n",
        "* Not guaranteed to be called immediately (depends on Python’s garbage collection).\n",
        "\n",
        "6. What is the difference between import and from ... import in Python?\n",
        "- Both import and from ... import are used to bring external modules into your Python script, but they work differently.\n",
        "\n",
        "Import module_name\n",
        "\n",
        "* Imports the entire module.\n",
        "* Requires you to use the module name as a prefix to access its functions or variables.\n",
        "\n",
        "from module_name import specific_item\n",
        "\n",
        "* Imports only specific functions, classes, or variables from a module.\n",
        "* You can use them directly without the module name.\n",
        "\n",
        "7. How can you handle multiple exceptions in Python?\n",
        "- Python provides several ways to handle multiple exceptions efficiently using try-except.\n",
        " * Using Multiple except Blocks\n",
        "\n",
        "Each except block handles a specific exception separately.\n",
        "* Using a Single except with Multiple Exceptions\n",
        "\n",
        "You can catch multiple exceptions in one block using a tuple.\n",
        "* Using a Generic Exception Block\n",
        "\n",
        "Catches all exceptions but should be used cautiously.\n",
        "\n",
        "8. What is the purpose of the with statement when handling files in Python?\n",
        "- The with statement in Python is used to manage file operations safely and efficiently. It ensures that the file is automatically closed after execution, even if an error occurs.\n",
        "\n",
        "Benefits:\n",
        "\n",
        "✔ Automatic Resource Management – No need to manually close the file.\n",
        "\n",
        "✔ Exception Safety – Prevents resource leaks if an error occurs.\n",
        "\n",
        "✔ Cleaner Code – No need for file.close().\n",
        "\n",
        "\n",
        "9. What is the difference between multithreading and multiprocessing?\n",
        "-   \n",
        "\n",
        "| Feature            | **Multithreading** | **Multiprocessing** |\n",
        "|--------------------|------------------|--------------------|\n",
        "| Execution Model   | Multiple **threads** within a single process | Multiple **processes**, each with its own memory |\n",
        "| Used For          | **I/O-bound** tasks (e.g., file I/O, web scraping) | **CPU-bound** tasks (e.g., data processing, calculations) |\n",
        "| Memory Usage      | Shared memory (lightweight) | Separate memory (higher memory usage) |\n",
        "| Performance       | Faster for I/O tasks | Faster for CPU tasks |\n",
        "| Global Interpreter Lock (GIL) | Affected by GIL (threads can’t run in parallel for CPU tasks) | Bypasses GIL (true parallel execution) |\n",
        "| Module Used      | `threading` | `multiprocessing` |\n",
        "\n",
        "10. What are the advantages of using logging in a program?\n",
        "- Advantages of Using Logging in a Program\n",
        "Logging is an essential tool for tracking events, debugging, and monitoring applications efficiently. Here’s why it’s beneficial:\n",
        "\n",
        "1. Helps in Debugging & Error Tracking\n",
        "\n",
        "✔ Captures errors and warnings for easier debugging.\n",
        "\n",
        "✔ Provides detailed insights into program execution.\n",
        "\n",
        "\n",
        "2. Improves Maintainability\n",
        "\n",
        "✔ Logs help developers understand program behavior over time.\n",
        "\n",
        "✔ Useful for identifying performance bottlenecks.\n",
        "\n",
        "\n",
        "3. Avoids Excessive print() Statements\n",
        "\n",
        "✔ Unlike print(), logging offers different severity levels (DEBUG, INFO, WARNING, ERROR, CRITICAL).\n",
        "\n",
        "✔ Allows selective logging without cluttering code.\n",
        "\n",
        "\n",
        "4. Saves Logs for Future Analysis\n",
        "\n",
        "✔ Logs can be stored in files for auditing and diagnostics.\n",
        "\n",
        "✔ Helps analyze past issues without rerunning the program.\n",
        "\n",
        "\n",
        "5. Supports Log Formatting & Filtering\n",
        "\n",
        "✔ Allows custom log formatting (timestamp, filename, line number).\n",
        "\n",
        "✔ Can filter logs based on severity levels.\n",
        "\n",
        "\n",
        "6. Works Well in Multi-threaded Applications\n",
        "\n",
        "✔ Handles logging in concurrent applications without conflicts.\n",
        "\n",
        "11. What is memory management in Python?\n",
        "- Memory management in Python is the process of allocating, using, and freeing memory efficiently. Python manages memory automatically using techniques like reference counting, garbage collection, and dynamic memory allocation.\n",
        "12. What are the basic steps involved in exception handling in Python?\n",
        "- Summary of Steps\n",
        "\n",
        "✅ Use try → Place risky code inside it.\n",
        "\n",
        "✅ Use except → Handle specific exceptions.\n",
        "\n",
        "✅ Use else → Run code if no error occurs.\n",
        "\n",
        "✅ Use finally → Perform cleanup (always executes).\n",
        "\n",
        "✅ Use multiple except blocks if needed.\n",
        "\n",
        "13. Why is memory management important in Python?\n",
        "- Memory management is crucial in Python because it ensures efficient use of system resources, preventing memory leaks and performance degradation. Python's built-in memory management system automatically allocates and deallocates memory, reducing the risk of manual errors. Features like **reference counting**, **garbage collection**, and **dynamic memory allocation** help optimize memory usage, especially in applications handling large datasets, complex computations, or real-time processing. Efficient memory management enhances application speed, scalability, and stability, making programs run smoothly without excessive memory consumption. Understanding and applying memory optimization techniques, such as using generators, deleting unnecessary objects, and managing references properly, helps improve performance and resource utilization in Python applications.\n",
        "14. What is the role of try and except in exception handling?\n",
        "- Role of try and except in Exception Handling in Python\n",
        "\n",
        "In Python, try and except blocks are used to handle runtime errors (exceptions) and prevent program crashes.\n",
        "\n",
        "\n",
        "1️⃣ try Block: Detects Errors\n",
        "\n",
        "✔ The try block contains code that might cause an exception.\n",
        "\n",
        "✔ If an error occurs, execution immediately stops in try and jumps to except.\n",
        "\n",
        "2️⃣ except Block: Handles Errors\n",
        "\n",
        "✔ The except block catches and processes exceptions.\n",
        "\n",
        "✔ Prevents program termination by providing alternative actions.\n",
        "15.  How does Python's garbage collection system work?\n",
        "- Python's garbage collection system automatically manages memory by identifying and reclaiming unused objects, preventing memory leaks and optimizing performance. It primarily relies on **reference counting**, where each object has a reference count that increases when assigned to a variable and decreases when references are removed. When the count reaches zero, the object is automatically deleted. However, reference cycles (where objects reference each other) can cause memory issues, which is why Python also includes a **cyclic garbage collector** within the `gc` module. This collector periodically scans and removes objects involved in circular references. Developers can manually trigger garbage collection using `gc.collect()`, but Python generally handles memory cleanup efficiently in the background.\n",
        "16. What is the purpose of the else block in exception handling?\n",
        "- Purpose of the else Block in Exception Handling\n",
        "\n",
        "In Python, the else block in exception handling is used to execute code only if no exceptions occur in the try block. It helps separate the normal execution logic from error-handling code, improving readability and structure.\n",
        "\n",
        "Key Benefits:\n",
        "\n",
        "✅ Ensures cleaner code by keeping error-handling (except) separate from normal execution.\n",
        "\n",
        "✅ Improves debugging by clearly defining successful execution logic.\n",
        "\n",
        "✅ Runs only when no exception is raised, unlike finally, which always runs.\n",
        "\n",
        "17. What are the common logging levels in Python?\n",
        "- Common Logging Levels in Python  \n",
        "\n",
        "Python's `logging` module provides **five standard logging levels**, each representing a different severity of events. These levels help categorize logs and filter messages based on importance.  \n",
        "\n",
        "| **Level**   | **Numeric Value** | **Description** |\n",
        "|------------|-----------------|------------------------------------------------|\n",
        "| **DEBUG**   | 10  | Detailed diagnostic information for debugging. |\n",
        "| **INFO**    | 20  | General information about program execution. |\n",
        "| **WARNING** | 30  | Indicates a potential problem but doesn't stop execution. |\n",
        "| **ERROR**   | 40  | A serious issue; some functionality has failed. |\n",
        "| **CRITICAL**| 50  | A severe error; program execution may stop. |\n",
        "\n",
        "\n",
        "\n",
        "\n",
        "\n",
        "18. What is the difference between os.fork() and multiprocessing in Python?\n",
        "- Difference Between `os.fork()` and `multiprocessing` in Python\n",
        "\n",
        "Both `os.fork()` and the `multiprocessing` module are used to create child processes in Python, but they work differently and have distinct use cases.  \n",
        "\n",
        "\n",
        "\n",
        "### **1️⃣ `os.fork()` (Unix/Linux Only)**  \n",
        "✔ Creates a **child process** by **cloning** the parent process.  \n",
        "✔ The child process gets a **copy of the parent’s memory space**.  \n",
        "✔ Returns **0** in the child process and **PID** (Process ID) in the parent process.  \n",
        "✔ Requires manual handling of **inter-process communication (IPC)**.  \n",
        "✔ **Not available on Windows** (only works on Unix-based systems).  \n",
        "\n",
        "*2️⃣ `multiprocessing` Module (Cross-Platform)**  \n",
        "✔ Creates separate **independent processes**, each with its own **memory space**.  \n",
        "✔ Uses **IPC mechanisms (queues, pipes, shared memory)** to communicate.  \n",
        "✔ Works on **both Windows and Unix/Linux**.  \n",
        "✔ Easier to manage than `os.fork()`.  \n",
        "\n",
        "19. What is the importance of closing a file in Python?\n",
        "- Importance of Closing a File in Python\n",
        "\n",
        "Closing a file in Python using the .close() method is crucial for proper resource management. Here’s why:\n",
        "\n",
        "\n",
        "1️⃣ Releases System Resources\n",
        "\n",
        "✔ Frees up memory and file handles used by the program.\n",
        "\n",
        "✔ Prevents unnecessary resource consumption, especially in large applications.\n",
        "\n",
        "\n",
        "2️⃣ Ensures Data is Saved Properly\n",
        "\n",
        "✔ When writing to a file, changes may be stored in a buffer.\n",
        "\n",
        "\n",
        "✔ Closing the file ensures all data is written to disk.\n",
        "\n",
        "\n",
        "3️⃣ Prevents Data Corruption\n",
        "\n",
        "✔ Avoids issues like incomplete writes or file corruption, especially in multi-threaded applications.\n",
        "\n",
        "\n",
        "4️⃣ Allows Other Programs to Access the File\n",
        "\n",
        "✔ If a file remains open, other programs might be unable to read or modify it.\n",
        "20. What is the difference between file.read() and file.readline() in Python?\n",
        "- Both file.read() and file.readline() are used to read content from a file, but they work differently.\n",
        "\n",
        "\n",
        "1️⃣ file.read(size)\n",
        "\n",
        "✔ Reads the entire file or a specified number of bytes.\n",
        "\n",
        "✔ Returns a single string containing the file content.\n",
        "\n",
        "✔ Can be memory-intensive for large files.\n",
        "\n",
        "2️⃣ file.readline()\n",
        "\n",
        "✔ Reads only one line at a time.\n",
        "\n",
        "✔ Useful for reading large files line by line.\n",
        "\n",
        "✔ Returns a string containing a single line, including the newline character (\\n).\n",
        "\n",
        "21. What is the logging module in Python used for?\n",
        "- The logging module in Python is used for tracking events and debugging programs by recording messages with different severity levels. It helps developers monitor application behavior, detect issues, and store logs for future analysis.\n",
        "\n",
        "22. What is the os module in Python used for in file handling?\n",
        "- The os module in Python provides functions to interact with the operating system, making it useful for file and directory handling. It allows you to create, delete, rename, and manage files and directories efficiently.\n",
        "\n",
        "23. What are the challenges associated with memory management in Python?\n",
        "- Challenges Associated with Memory Management in Python\n",
        "\n",
        "Python handles memory management automatically, but there are still challenges that developers need to consider.  \n",
        "\n",
        "1️⃣ Garbage Collection Overhead**  \n",
        "✔ Python uses **automatic garbage collection** to free unused memory.  \n",
        "✔ However, garbage collection can introduce **performance overhead** if triggered frequently.  \n",
        "\n",
        "### **2️⃣ Memory Leaks**  \n",
        "✔ If objects are unintentionally kept in memory (e.g., through circular references), they won’t be collected, causing memory leaks.  \n",
        "\n",
        "\n",
        "✅ **Solution:** Use `weakref` or `gc.collect()` to handle circular references.\n",
        "\n",
        "---\n",
        "\n",
        "### **3️⃣ High Memory Consumption**  \n",
        "✔ Python's **dynamic typing and object-oriented nature** make it memory-intensive.  \n",
        "✔ Every object has extra overhead for type and reference counting.  \n",
        "\n",
        "\n",
        "✅ **Solution:** Use **generators**, `__slots__`, and optimized data structures.  \n",
        "\n",
        "---\n",
        "\n",
        "### **4️⃣ Global Interpreter Lock (GIL) and Memory Management**  \n",
        "✔ Due to the **GIL**, Python threads don’t run in true parallel, limiting multi-threaded memory efficiency.  \n",
        "\n",
        "✅ **Solution:** Use **multiprocessing** instead of threading for memory-heavy tasks.\n",
        "\n",
        "---\n",
        "\n",
        "### **5️⃣ Fragmentation in Long-Running Applications**  \n",
        "✔ Long-running applications (like web servers) may experience **memory fragmentation**, leading to inefficient memory usage over time.  \n",
        "\n",
        "✅ **Solution:** Periodically restart the application or use memory-efficient patterns.\n",
        "24.  How do you raise an exception manually in Python?\n",
        "- In Python, you can manually raise an exception using the `raise` keyword. This is useful when you want to enforce certain conditions in your program, such as validating user input or handling unexpected situations. To raise an exception, specify the exception type followed by an optional error message. For example, `raise ValueError(\"Invalid input!\")` will immediately stop execution and display the given error message. You can also raise built-in exceptions like `TypeError`, `IndexError`, or define custom exceptions using a class that inherits from `Exception`. Proper use of `raise` helps in writing robust and error-resistant code.\n",
        "\n",
        "25. Why is it important to use multithreading in certain applications?\n",
        "- ### **Importance of Multithreading in Certain Applications**  \n",
        "\n",
        "Multithreading is crucial in applications that require **concurrent execution of tasks**, improving **performance, responsiveness, and resource utilization**. Here’s why:  \n",
        "\n",
        "### **1️⃣ Improved Performance & Speed**  \n",
        "✔ Allows multiple tasks to run **simultaneously**, reducing execution time.  \n",
        "✔ Especially beneficial in **I/O-bound** operations like file handling, networking, and database access.  \n",
        "\n",
        "### **2️⃣ Better Responsiveness**  \n",
        "✔ Essential for **GUI applications** where UI updates should not freeze due to background tasks.  \n",
        "✔ Example: In a web browser, multithreading allows downloading multiple files while still responding to user input.  \n",
        "\n",
        "### **3️⃣ Efficient Resource Utilization**  \n",
        "✔ Uses CPU cores efficiently, allowing tasks to run **in parallel**.  \n",
        "✔ Helps in **multi-core** processors where multiple threads can execute on different cores.  \n",
        "\n",
        "### **4️⃣ Non-Blocking Execution**  \n",
        "✔ Ensures that long-running tasks don’t block the execution of other critical processes.  \n",
        "✔ Example: A web server can handle multiple client requests concurrently.  \n",
        "\n",
        "### **5️⃣ Ideal for I/O-Bound Tasks**  \n",
        "✔ In tasks where the program waits for external resources (disk, network, API requests), multithreading helps utilize waiting time efficiently.  \n",
        "\n"
      ],
      "metadata": {
        "id": "LfRz3ClCZDqQ"
      }
    },
    {
      "cell_type": "markdown",
      "source": [
        "Practical Questions\n"
      ],
      "metadata": {
        "id": "d9D-Kvx-kvkf"
      }
    },
    {
      "cell_type": "code",
      "source": [
        "#1.  How can you open a file for writing in Python and write a string to it?\n",
        "# Open the file in write mode\n",
        "with open(\"example.txt\", \"w\") as file:\n",
        "    file.write(\"Hello, this is a sample text!\")\n",
        "\n",
        "print(\"File written successfully!\")\n"
      ],
      "metadata": {
        "colab": {
          "base_uri": "https://localhost:8080/"
        },
        "id": "FeyGS3IHk3cQ",
        "outputId": "f4bc3afd-dd04-4447-d7f8-4d228480e780"
      },
      "execution_count": 1,
      "outputs": [
        {
          "output_type": "stream",
          "name": "stdout",
          "text": [
            "File written successfully!\n"
          ]
        }
      ]
    },
    {
      "cell_type": "code",
      "source": [
        "#2 Write a Python program to read the contents of a file and print each line\n",
        "\n",
        "# Open the file in read mode\n",
        "with open(\"example.txt\", \"r\") as file:\n",
        "    # Read and print each line\n",
        "    for line in file:\n",
        "        print(line.strip())  # strip() removes any extra newline characters\n"
      ],
      "metadata": {
        "colab": {
          "base_uri": "https://localhost:8080/"
        },
        "id": "HvcqS4iFle4b",
        "outputId": "9151d9e2-c7aa-4a9c-9032-c08e8159cbab"
      },
      "execution_count": 5,
      "outputs": [
        {
          "output_type": "stream",
          "name": "stdout",
          "text": [
            "Hello, this is a sample text!\n"
          ]
        }
      ]
    },
    {
      "cell_type": "code",
      "source": [
        "#3 How would you handle a case where the file doesn't exist while trying to open it for reading?\n",
        "\n",
        "try:\n",
        "    with open(\"example.txt\", \"r\") as file:\n",
        "        for line in file:\n",
        "            print(line.strip())  # Read and print each line\n",
        "except FileNotFoundError:\n",
        "    print(\"Error: The file does not exist. Please check the filename or path.\")\n"
      ],
      "metadata": {
        "colab": {
          "base_uri": "https://localhost:8080/"
        },
        "id": "4m6a-biqls_-",
        "outputId": "2d696c87-e20e-4e5b-a699-1ec277a0b380"
      },
      "execution_count": 4,
      "outputs": [
        {
          "output_type": "stream",
          "name": "stdout",
          "text": [
            "Hello, this is a sample text!\n"
          ]
        }
      ]
    },
    {
      "cell_type": "code",
      "source": [
        "#4 Write a Python script that reads from one file and writes its content to another fileF\n",
        "# Open the source file for reading and the destination file for writing\n",
        "try:\n",
        "    with open(\"source.txt\", \"r\") as source_file, open(\"destination.txt\", \"w\") as destination_file:\n",
        "        for line in source_file:\n",
        "            destination_file.write(line)  # Write each line to the new file\n",
        "\n",
        "    print(\"File copied successfully!\")\n",
        "except FileNotFoundError:\n",
        "    print(\"Error: Source file does not exist.\")\n"
      ],
      "metadata": {
        "colab": {
          "base_uri": "https://localhost:8080/"
        },
        "id": "M3GX370jmPSY",
        "outputId": "32790401-a73e-4c9d-f0e7-90a204c06474"
      },
      "execution_count": 6,
      "outputs": [
        {
          "output_type": "stream",
          "name": "stdout",
          "text": [
            "Error: Source file does not exist.\n"
          ]
        }
      ]
    },
    {
      "cell_type": "code",
      "source": [
        "#5 How would you catch and handle division by zero error in Python?\n",
        "try:\n",
        "    numerator = int(input(\"Enter numerator: \"))\n",
        "    denominator = int(input(\"Enter denominator: \"))\n",
        "\n",
        "    result = numerator / denominator  # This may raise ZeroDivisionError\n",
        "    print(\"Result:\", result)\n",
        "\n",
        "except ZeroDivisionError:\n",
        "    print(\"Error: Division by zero is not allowed. Please enter a nonzero denominator.\")\n",
        "except ValueError:\n",
        "    print(\"Error: Please enter valid numbers.\")\n"
      ],
      "metadata": {
        "colab": {
          "base_uri": "https://localhost:8080/"
        },
        "id": "MpFNjHSqmbZc",
        "outputId": "849901ca-e357-42cf-8fcf-eecf5b0061fa"
      },
      "execution_count": 8,
      "outputs": [
        {
          "output_type": "stream",
          "name": "stdout",
          "text": [
            "Enter numerator: 868\n",
            "Enter denominator: 8\n",
            "Result: 108.5\n"
          ]
        }
      ]
    },
    {
      "cell_type": "code",
      "source": [
        "#6 Write a Python program that logs an error message to a log file when a division by zero exception occurs?\n",
        "import logging\n",
        "\n",
        "# Configure logging to write errors to a file\n",
        "logging.basicConfig(filename=\"error.log\", level=logging.ERROR,\n",
        "                    format=\"%(asctime)s - %(levelname)s - %(message)s\")\n",
        "\n",
        "try:\n",
        "    numerator = int(input(\"Enter numerator: \"))\n",
        "    denominator = int(input(\"Enter denominator: \"))\n",
        "\n",
        "    result = numerator / denominator  # This may raise ZeroDivisionError\n",
        "    print(\"Result:\", result)\n",
        "\n",
        "except ZeroDivisionError:\n",
        "    error_message = \"Error: Division by zero occurred.\"\n",
        "    print(error_message)\n",
        "    logging.error(error_message)  # Log error to file\n",
        "except ValueError:\n",
        "    error_message = \"Error: Invalid input. Please enter numbers only.\"\n",
        "    print(error_message)\n",
        "    logging.error(error_message)\n"
      ],
      "metadata": {
        "colab": {
          "base_uri": "https://localhost:8080/"
        },
        "id": "ui2FItHkmySN",
        "outputId": "1c7a4b0b-a039-4565-cd5a-719a79eff497"
      },
      "execution_count": 9,
      "outputs": [
        {
          "output_type": "stream",
          "name": "stdout",
          "text": [
            "Enter numerator: 353\n",
            "Enter denominator: 5\n",
            "Result: 70.6\n"
          ]
        }
      ]
    },
    {
      "cell_type": "code",
      "source": [
        "#7 How do you log information at different levels (INFO, ERROR, WARNING) in Python using the logging module?\n",
        "import logging\n",
        "\n",
        "# Configure logging to write messages to a file\n",
        "logging.basicConfig(filename=\"app.log\", level=logging.DEBUG,\n",
        "                    format=\"%(asctime)s - %(levelname)s - %(message)s\")\n",
        "\n",
        "# Logging messages at different levels\n",
        "logging.debug(\"This is a debug message\")     # For debugging\n",
        "logging.info(\"This is an info message\")      # General information\n",
        "logging.warning(\"This is a warning message\") # Potential issue\n",
        "logging.error(\"This is an error message\")    # Something went wrong\n",
        "logging.critical(\"This is a critical message\") # Serious failure\n",
        "\n"
      ],
      "metadata": {
        "colab": {
          "base_uri": "https://localhost:8080/"
        },
        "id": "KeILhepInMti",
        "outputId": "74f52061-743d-47d8-92a5-d3f6a6c8709a"
      },
      "execution_count": 10,
      "outputs": [
        {
          "output_type": "stream",
          "name": "stderr",
          "text": [
            "WARNING:root:This is a warning message\n",
            "ERROR:root:This is an error message\n",
            "CRITICAL:root:This is a critical message\n"
          ]
        }
      ]
    },
    {
      "cell_type": "code",
      "source": [
        "#8 Write a program to handle a file opening error using exception handling\n",
        "try:\n",
        "    # Attempt to open a non-existent file\n",
        "    with open(\"nonexistent_file.txt\", \"r\") as file:\n",
        "        content = file.read()\n",
        "        print(content)\n",
        "\n",
        "except FileNotFoundError:\n",
        "    print(\"Error: The file does not exist. Please check the filename or path.\")\n",
        "\n",
        "except PermissionError:\n",
        "    print(\"Error: You do not have permission to access this file.\")\n",
        "\n",
        "except Exception as e:\n",
        "    print(f\"An unexpected error occurred: {e}\")\n"
      ],
      "metadata": {
        "colab": {
          "base_uri": "https://localhost:8080/"
        },
        "id": "2PfpXpCZnUnI",
        "outputId": "7e5ee1a4-0fbe-4b6b-ca83-bf97e7fc6350"
      },
      "execution_count": 11,
      "outputs": [
        {
          "output_type": "stream",
          "name": "stdout",
          "text": [
            "Error: The file does not exist. Please check the filename or path.\n"
          ]
        }
      ]
    },
    {
      "cell_type": "code",
      "source": [
        "#9 How can you read a file line by line and store its content in a list in Python\n",
        "lines = []\n",
        "with open(\"example.txt\", \"r\") as file:\n",
        "    for line in file:\n",
        "        lines.append(line.strip())  # Remove trailing newline characters\n",
        "\n",
        "print(lines)  # Output: List of lines without newlines\n"
      ],
      "metadata": {
        "colab": {
          "base_uri": "https://localhost:8080/"
        },
        "id": "JvyJy4kfneRj",
        "outputId": "762b5187-84ee-4929-f765-1f4553fab7a7"
      },
      "execution_count": 12,
      "outputs": [
        {
          "output_type": "stream",
          "name": "stdout",
          "text": [
            "['Hello, this is a sample text!']\n"
          ]
        }
      ]
    },
    {
      "cell_type": "code",
      "source": [
        "#10 How can you append data to an existing file in Python\n",
        "# Open the file in append mode\n",
        "with open(\"example.txt\", \"a\") as file:\n",
        "    file.write(\"\\nThis is a new line appended to the file.\")\n",
        "\n",
        "print(\"Data appended successfully!\")\n"
      ],
      "metadata": {
        "colab": {
          "base_uri": "https://localhost:8080/"
        },
        "id": "clKlrLx4ntzW",
        "outputId": "3f06a50a-7250-4c8a-a938-f671537ad477"
      },
      "execution_count": 13,
      "outputs": [
        {
          "output_type": "stream",
          "name": "stdout",
          "text": [
            "Data appended successfully!\n"
          ]
        }
      ]
    },
    {
      "cell_type": "code",
      "source": [
        "#11 Write a Python program that uses a try-except block to handle an error when attempting to access a dictionary key that doesn't exist\n",
        "# Sample dictionary\n",
        "data = {\"name\": \"Mehar\", \"age\": 18, \"city\": \"Delhi\"}\n",
        "\n",
        "try:\n",
        "    # Attempt to access a non-existent key\n",
        "    value = data[\"email\"]\n",
        "    print(\"Email:\", value)\n",
        "\n",
        "except KeyError:\n",
        "    print(\"Error: The key 'email' does not exist in the dictionary.\")\n"
      ],
      "metadata": {
        "colab": {
          "base_uri": "https://localhost:8080/"
        },
        "id": "NelE91C8n5so",
        "outputId": "4cd2ea66-1046-425a-ff83-f625ead01503"
      },
      "execution_count": 15,
      "outputs": [
        {
          "output_type": "stream",
          "name": "stdout",
          "text": [
            "Error: The key 'email' does not exist in the dictionary.\n"
          ]
        }
      ]
    },
    {
      "cell_type": "code",
      "source": [
        "#12 Write a program that demonstrates using multiple except blocks to handle different types of exceptionsF\n",
        "try:\n",
        "    # User input for division\n",
        "    num1 = int(input(\"Enter numerator: \"))\n",
        "    num2 = int(input(\"Enter denominator: \"))\n",
        "\n",
        "    # Division operation (may raise ZeroDivisionError)\n",
        "    result = num1 / num2\n",
        "    print(\"Result:\", result)\n",
        "\n",
        "    # Accessing a non-existent dictionary key (may raise KeyError)\n",
        "    sample_dict = {\"name\": \"Mehar\", \"age\": 18}\n",
        "    print(\"City:\", sample_dict[\"city\"])\n",
        "\n",
        "except ZeroDivisionError:\n",
        "    print(\"Error: Division by zero is not allowed.\")\n",
        "\n",
        "except ValueError:\n",
        "    print(\"Error: Invalid input! Please enter numbers only.\")\n",
        "\n",
        "except KeyError:\n",
        "    print(\"Error: The requested key does not exist in the dictionary.\")\n",
        "\n",
        "except Exception as e:\n",
        "    print(f\"An unexpected error occurred: {e}\")\n"
      ],
      "metadata": {
        "colab": {
          "base_uri": "https://localhost:8080/"
        },
        "id": "WrMq5kMeoHXS",
        "outputId": "9012bea1-b2c5-4f8f-dca3-941988932152"
      },
      "execution_count": 16,
      "outputs": [
        {
          "output_type": "stream",
          "name": "stdout",
          "text": [
            "Enter numerator: 344\n",
            "Enter denominator: 2\n",
            "Result: 172.0\n",
            "Error: The requested key does not exist in the dictionary.\n"
          ]
        }
      ]
    },
    {
      "cell_type": "code",
      "source": [
        "#13 How would you check if a file exists before attempting to read it in Python\n",
        "import os\n",
        "\n",
        "filename = \"example.txt\"\n",
        "\n",
        "if os.path.exists(filename):\n",
        "    with open(filename, \"r\") as file:\n",
        "        content = file.read()\n",
        "        print(content)\n",
        "else:\n",
        "    print(f\"Error: The file '{filename}' does not exist.\")\n"
      ],
      "metadata": {
        "colab": {
          "base_uri": "https://localhost:8080/"
        },
        "id": "DmUdJsTmoZuD",
        "outputId": "383d77a4-f2a4-4223-a476-41d26f127c24"
      },
      "execution_count": 17,
      "outputs": [
        {
          "output_type": "stream",
          "name": "stdout",
          "text": [
            "Hello, this is a sample text!\n",
            "This is a new line appended to the file.\n"
          ]
        }
      ]
    },
    {
      "cell_type": "code",
      "source": [
        "#14 Write a program that uses the logging module to log both informational and error messages\n",
        "import logging\n",
        "\n",
        "# Configure logging settings\n",
        "logging.basicConfig(filename=\"app.log\", level=logging.DEBUG,\n",
        "                    format=\"%(asctime)s - %(levelname)s - %(message)s\")\n",
        "\n",
        "def divide_numbers(a, b):\n",
        "    try:\n",
        "        logging.info(f\"Trying to divide {a} by {b}\")  # Log info message\n",
        "        result = a / b\n",
        "        logging.info(f\"Division successful: {result}\")  # Log success info\n",
        "        return result\n",
        "    except ZeroDivisionError:\n",
        "        logging.error(\"Error: Division by zero attempted!\")  # Log error message\n",
        "        return None\n",
        "    except Exception as e:\n",
        "        logging.error(f\"Unexpected error: {e}\")  # Log unexpected errors\n",
        "        return None\n",
        "\n",
        "# Test the function\n",
        "num1 = 10\n",
        "num2 = 0  # Change this to a nonzero number to see both logs\n",
        "divide_numbers(num1, num2)\n",
        "\n",
        "print(\"Logs have been recorded in 'app.log'\")\n"
      ],
      "metadata": {
        "colab": {
          "base_uri": "https://localhost:8080/"
        },
        "id": "IRARC7_jofVV",
        "outputId": "aaf6cb42-d1ce-47c8-bcf8-f8c0f5f60214"
      },
      "execution_count": 18,
      "outputs": [
        {
          "output_type": "stream",
          "name": "stderr",
          "text": [
            "ERROR:root:Error: Division by zero attempted!\n"
          ]
        },
        {
          "output_type": "stream",
          "name": "stdout",
          "text": [
            "Logs have been recorded in 'app.log'\n"
          ]
        }
      ]
    },
    {
      "cell_type": "code",
      "source": [
        "#15 Write a Python program that prints the content of a file and handles the case when the file is empty\n",
        "import os\n",
        "\n",
        "def read_file(filename):\n",
        "    try:\n",
        "        # Check if the file exists\n",
        "        if not os.path.exists(filename):\n",
        "            print(f\"Error: The file '{filename}' does not exist.\")\n",
        "            return\n",
        "\n",
        "        # Open and read the file\n",
        "        with open(filename, \"r\") as file:\n",
        "            content = file.read().strip()  # Remove extra spaces or newlines\n",
        "\n",
        "        # Check if the file is empty\n",
        "        if not content:\n",
        "            print(f\"Warning: The file '{filename}' is empty.\")\n",
        "        else:\n",
        "            print(\"File Content:\\n\", content)\n",
        "\n",
        "    except Exception as e:\n",
        "        print(f\"An unexpected error occurred: {e}\")\n",
        "\n",
        "# Example usage\n",
        "filename = \"example.txt\"\n",
        "read_file(filename)\n"
      ],
      "metadata": {
        "colab": {
          "base_uri": "https://localhost:8080/"
        },
        "id": "aOoLgK1_pDNH",
        "outputId": "be884a76-8c54-461c-a98d-788aaabb5bdf"
      },
      "execution_count": 19,
      "outputs": [
        {
          "output_type": "stream",
          "name": "stdout",
          "text": [
            "File Content:\n",
            " Hello, this is a sample text!\n",
            "This is a new line appended to the file.\n"
          ]
        }
      ]
    },
    {
      "cell_type": "code",
      "source": [
        "#16 Demonstrate how to use memory profiling to check the memory usage of a small program\n",
        "from memory_profiler import profile\n",
        "\n",
        "@profile  # This will track memory usage of the function\n",
        "def create_large_list():\n",
        "    # Creating a large list to test memory usage\n",
        "    large_list = [i for i in range(1000000)]\n",
        "    return sum(large_list)  # Summing the list\n",
        "\n",
        "if __name__ == \"__main__\":\n",
        "    result = create_large_list()\n",
        "    print(\"Sum:\", result)\n"
      ],
      "metadata": {
        "id": "i1padnxPqTDN"
      },
      "execution_count": null,
      "outputs": []
    },
    {
      "cell_type": "code",
      "source": [
        "#17 Write a Python program to create and write a list of numbers to a file, one number per lineF\n",
        "# List of numbers to write\n",
        "numbers = [1, 2, 3, 4, 5, 10, 20, 30, 40, 50]\n",
        "\n",
        "# Open the file in write mode\n",
        "with open(\"numbers.txt\", \"w\") as file:\n",
        "    for number in numbers:\n",
        "        file.write(f\"{number}\\n\")  # Write each number on a new line\n",
        "\n",
        "print(\"Numbers written to 'numbers.txt' successfully!\")\n"
      ],
      "metadata": {
        "colab": {
          "base_uri": "https://localhost:8080/"
        },
        "id": "ZJjWTs4pqbEj",
        "outputId": "fd15cb90-9b84-4dae-a5db-b586f07e8a79"
      },
      "execution_count": 24,
      "outputs": [
        {
          "output_type": "stream",
          "name": "stdout",
          "text": [
            "Numbers written to 'numbers.txt' successfully!\n"
          ]
        }
      ]
    },
    {
      "cell_type": "code",
      "source": [
        "#18 How would you implement a basic logging setup that logs to a file with rotation after 1MB\n",
        "import logging\n",
        "from logging.handlers import RotatingFileHandler\n",
        "\n",
        "# Configure logging\n",
        "log_file = \"app.log\"\n",
        "max_size = 1 * 1024 * 1024  # 1MB\n",
        "backup_count = 3  # Keeps 3 old log files\n",
        "\n",
        "# Create a rotating file handler\n",
        "handler = RotatingFileHandler(log_file, maxBytes=max_size, backupCount=backup_count)\n",
        "\n",
        "# Configure logger\n",
        "logging.basicConfig(\n",
        "    level=logging.DEBUG,\n",
        "    format=\"%(asctime)s - %(levelname)s - %(message)s\",\n",
        "    handlers=[handler]\n",
        ")\n",
        "\n",
        "# Generate log messages\n",
        "for i in range(10000):  # Large loop to generate enough logs for rotation\n",
        "    logging.info(f\"This is log message {i}\")\n"
      ],
      "metadata": {
        "id": "UmLmA_bgquoR"
      },
      "execution_count": 27,
      "outputs": []
    },
    {
      "cell_type": "code",
      "source": [
        "#19 Write a program that handles both IndexError and KeyError using a try-except blockF\n",
        "def access_elements():\n",
        "    my_list = [10, 20, 30]  # A sample list\n",
        "    my_dict = {\"name\": \"Mehar\", \"age\": 18}  # A sample dictionary\n",
        "\n",
        "    try:\n",
        "        # Attempting to access an out-of-range index\n",
        "        print(\"List Element:\", my_list[5])\n",
        "\n",
        "        # Attempting to access a missing dictionary key\n",
        "        print(\"City:\", my_dict[\"city\"])\n",
        "\n",
        "    except IndexError:\n",
        "        print(\"Error: List index out of range!\")\n",
        "\n",
        "    except KeyError:\n",
        "        print(\"Error: Dictionary key not found!\")\n",
        "\n",
        "    except Exception as e:\n",
        "        print(f\"An unexpected error occurred: {e}\")\n",
        "\n",
        "# Run the function\n",
        "access_elements()\n"
      ],
      "metadata": {
        "colab": {
          "base_uri": "https://localhost:8080/"
        },
        "id": "2MtU3znIq60v",
        "outputId": "ca4fa246-4367-435f-933b-7ac7704e7db6"
      },
      "execution_count": 28,
      "outputs": [
        {
          "output_type": "stream",
          "name": "stdout",
          "text": [
            "Error: List index out of range!\n"
          ]
        }
      ]
    },
    {
      "cell_type": "code",
      "source": [
        "#20 F How would you open a file and read its contents using a context manager in Python\n",
        "# Open the file using a context manager and read its contents\n",
        "with open(\"example.txt\", \"r\") as file:\n",
        "    content = file.read()\n",
        "\n",
        "# Print the file content\n",
        "print(\"File Content:\\n\", content)\n"
      ],
      "metadata": {
        "colab": {
          "base_uri": "https://localhost:8080/"
        },
        "id": "lJuN-L0krE42",
        "outputId": "7f44395a-462f-4ac7-ca3c-4f80e47a584a"
      },
      "execution_count": 29,
      "outputs": [
        {
          "output_type": "stream",
          "name": "stdout",
          "text": [
            "File Content:\n",
            " Hello, this is a sample text!\n",
            "This is a new line appended to the file.\n"
          ]
        }
      ]
    },
    {
      "cell_type": "code",
      "source": [
        "#21  Write a Python program that reads a file and prints the number of occurrences of a specific word\n",
        "def count_word_occurrences(filename, target_word):\n",
        "    try:\n",
        "        with open(filename, \"r\") as file:\n",
        "            content = file.read().lower()  # Convert to lowercase for case-insensitive search\n",
        "\n",
        "        # Count occurrences of the word\n",
        "        word_count = content.split().count(target_word.lower())\n",
        "\n",
        "        print(f\"The word '{target_word}' appears {word_count} times in '{filename}'.\")\n",
        "\n",
        "    except FileNotFoundError:\n",
        "        print(f\"Error: The file '{filename}' does not exist.\")\n",
        "\n",
        "    except Exception as e:\n",
        "        print(f\"An unexpected error occurred: {e}\")\n",
        "\n",
        "# Example usage\n",
        "file_name = \"example.txt\"\n",
        "word_to_search = \"python\"\n",
        "count_word_occurrences(file_name, word_to_search)\n"
      ],
      "metadata": {
        "colab": {
          "base_uri": "https://localhost:8080/"
        },
        "id": "W0Man_cQrP4n",
        "outputId": "730dfcec-e8e7-4fbe-8d64-8c14188bff2d"
      },
      "execution_count": 30,
      "outputs": [
        {
          "output_type": "stream",
          "name": "stdout",
          "text": [
            "The word 'python' appears 0 times in 'example.txt'.\n"
          ]
        }
      ]
    },
    {
      "cell_type": "code",
      "source": [
        "#22 How can you check if a file is empty before attempting to read its contents\n",
        "import os\n",
        "\n",
        "filename = \"example.txt\"\n",
        "\n",
        "if os.path.exists(filename) and os.path.getsize(filename) == 0:\n",
        "    print(f\"Warning: The file '{filename}' is empty.\")\n",
        "else:\n",
        "    with open(filename, \"r\") as file:\n",
        "        content = file.read()\n",
        "        print(\"File Content:\\n\", content)\n"
      ],
      "metadata": {
        "id": "skLPFd7-rXsv"
      },
      "execution_count": null,
      "outputs": []
    },
    {
      "cell_type": "code",
      "source": [
        "#23 Write a Python program that writes to a log file when an error occurs during file handling.\n",
        "import logging\n",
        "\n",
        "# Configure logging\n",
        "logging.basicConfig(\n",
        "    filename=\"file_errors.log\",  # Log file name\n",
        "    level=logging.ERROR,  # Log only errors\n",
        "    format=\"%(asctime)s - ERROR - %(message)s\"\n",
        ")\n",
        "\n",
        "def read_file(filename):\n",
        "    try:\n",
        "        with open(filename, \"r\") as file:\n",
        "            content = file.read()\n",
        "            print(\"File Content:\\n\", content)\n",
        "\n",
        "    except FileNotFoundError:\n",
        "        logging.error(f\"File '{filename}' not found.\")\n",
        "        print(f\"Error: The file '{filename}' does not exist.\")\n",
        "\n",
        "    except PermissionError:\n",
        "        logging.error(f\"Permission denied for file '{filename}'.\")\n",
        "        print(f\"Error: Permission denied for '{filename}'.\")\n",
        "\n",
        "    except Exception as e:\n",
        "        logging.error(f\"Unexpected error: {e}\")\n",
        "        print(f\"An unexpected error occurred: {e}\")\n",
        "\n",
        "# Example usage\n",
        "file_name = \"example.txt\"\n",
        "read_file(file_name)\n",
        "\n",
        "print(\"Errors (if any) have been logged in 'file_errors.log'.\")\n"
      ],
      "metadata": {
        "collapsed": true,
        "id": "4PEP3BWwsW7Q"
      },
      "execution_count": null,
      "outputs": []
    }
  ]
}